{
 "cells": [
  {
   "cell_type": "code",
   "execution_count": 203,
   "metadata": {},
   "outputs": [],
   "source": [
    "# Import and initialize libraries and data\n",
    "#lsof -P | grep ':8888' | awk '{print $2}' | xargs kill -9\n",
    "\n",
    "import pandas as pd\n",
    "writer = pd.ExcelWriter('processed_agent_detail.xlsx')"
   ]
  },
  {
   "cell_type": "code",
   "execution_count": 204,
   "metadata": {},
   "outputs": [],
   "source": [
    "df_cols = ['date','username','code','duration']\n",
    "df = pd.read_csv('agent_detail.csv', header=1, usecols=[0,1,5,6], names=df_cols)\n",
    "\n",
    "# Convert data types as needed\n",
    "\n",
    "df['duration'] = pd.to_datetime(df.duration)\n"
   ]
  },
  {
   "cell_type": "code",
   "execution_count": 205,
   "metadata": {},
   "outputs": [],
   "source": [
    "# Variables to compare against\n",
    "\n",
    "short_break = pd.to_datetime('00:15:30')\n",
    "long_break = pd.to_datetime('00:20:30')\n",
    "unscheduled_picklist = pd.to_datetime('00:15:30')"
   ]
  },
  {
   "cell_type": "code",
   "execution_count": 206,
   "metadata": {},
   "outputs": [],
   "source": [
    "# Adding the scheduled hours column\n",
    "\n",
    "df['ten_hours_shift'] = 0 # those that have 8 hours shift\n",
    "df.ten_hours_shift = df.username.map({'tstephens':1, 'gacevedonune':1})"
   ]
  },
  {
   "cell_type": "code",
   "execution_count": 207,
   "metadata": {},
   "outputs": [],
   "source": [
    "# Reports\n",
    "\n",
    "short_break_exception = df[(df.code == 'Break') & (df.duration > short_break) & (df.ten_hours_shift != 1)]\n",
    "short_break_exception_export = short_break_exception.loc[:,['date','username','code','duration']]\n",
    "short_break_exception_export['pretty_print'] = pd.to_datetime(short_break_exception_export.duration).dt.strftime(\"%H:%M:%S\")\n",
    "short_break_exception_export['excess'] = pd.to_datetime(short_break_exception_export.duration - short_break).dt.strftime(\"%H:%M:%S\")\n",
    "short_break_exception_export.to_excel(writer,'Short_Break')\n"
   ]
  },
  {
   "cell_type": "code",
   "execution_count": 208,
   "metadata": {},
   "outputs": [
    {
     "data": {
      "text/plain": [
       "<matplotlib.axes._subplots.AxesSubplot at 0x112f9ddd8>"
      ]
     },
     "execution_count": 208,
     "metadata": {},
     "output_type": "execute_result"
    },
    {
     "data": {
      "image/png": "[encoded data removed]",
      "text/plain": [
       "<Figure size 432x288 with 1 Axes>"
      ]
     },
     "metadata": {},
     "output_type": "display_data"
    }
   ],
   "source": [
    "% matplotlib inline\n",
    "short_break_exception.username.value_counts().plot(kind='bar')"
   ]
  },
  {
   "cell_type": "code",
   "execution_count": 209,
   "metadata": {},
   "outputs": [],
   "source": [
    "long_break_exception = df[(df.code == 'Break') & (df.duration > long_break) & (df.ten_hours_shift == 1)]\n",
    "long_break_exception.loc[:,['date','username','code','duration']].to_excel(writer,'Long_Break')"
   ]
  },
  {
   "cell_type": "code",
   "execution_count": 210,
   "metadata": {},
   "outputs": [
    {
     "data": {
      "text/plain": [
       "<matplotlib.axes._subplots.AxesSubplot at 0x113842198>"
      ]
     },
     "execution_count": 210,
     "metadata": {},
     "output_type": "execute_result"
    },
    {
     "data": {
      "image/png": "[encoded data removed]",
      "text/plain": [
       "<Figure size 432x288 with 1 Axes>"
      ]
     },
     "metadata": {},
     "output_type": "display_data"
    }
   ],
   "source": [
    "# Graph information\n",
    "% matplotlib inline\n",
    "long_break_exception.username.value_counts().plot(kind='bar')"
   ]
  },
  {
   "cell_type": "code",
   "execution_count": 211,
   "metadata": {},
   "outputs": [],
   "source": [
    "unscheduled_picklist_exception = df[(df.code == 'Unscheduled Picklist') & (df.duration > unscheduled_picklist)]\n",
    "unscheduled_picklist_exception.loc[:,['date','username','code','duration']].to_excel(writer,'Unscheduled_Picklist')"
   ]
  },
  {
   "cell_type": "code",
   "execution_count": 212,
   "metadata": {},
   "outputs": [
    {
     "data": {
      "text/plain": [
       "<matplotlib.axes._subplots.AxesSubplot at 0x113df9208>"
      ]
     },
     "execution_count": 212,
     "metadata": {},
     "output_type": "execute_result"
    },
    {
     "data": {
      "image/png": "[encoded data removed]",
      "text/plain": [
       "<Figure size 432x288 with 1 Axes>"
      ]
     },
     "metadata": {},
     "output_type": "display_data"
    }
   ],
   "source": [
    "# Graph information\n",
    "% matplotlib inline\n",
    "unscheduled_picklist_exception.username.value_counts().plot(kind='bar')"
   ]
  },
  {
   "cell_type": "code",
   "execution_count": 213,
   "metadata": {},
   "outputs": [],
   "source": [
    "writer.save()"
   ]
  }
 ],
 "metadata": {
  "kernelspec": {
   "display_name": "Python 3",
   "language": "python",
   "name": "python3"
  },
  "language_info": {
   "codemirror_mode": {
    "name": "ipython",
    "version": 3
   },
   "file_extension": ".py",
   "mimetype": "text/x-python",
   "name": "python",
   "nbconvert_exporter": "python",
   "pygments_lexer": "ipython3",
   "version": "3.6.4"
  }
 },
 "nbformat": 4,
 "nbformat_minor": 1
}
